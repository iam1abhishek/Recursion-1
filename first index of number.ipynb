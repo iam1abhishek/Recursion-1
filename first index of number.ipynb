{
 "cells": [
  {
   "cell_type": "code",
   "execution_count": 3,
   "id": "226d78b8",
   "metadata": {},
   "outputs": [
    {
     "name": "stdout",
     "output_type": "stream",
     "text": [
      "4\n",
      "2 3 4 5\n",
      "[2, 3, 4, 5]\n"
     ]
    }
   ],
   "source": [
    "n=input()\n",
    "l=list(int(l) for l in input().strip().split())\n",
    "print(l)"
   ]
  },
  {
   "cell_type": "code",
   "execution_count": 21,
   "id": "e461cbfd",
   "metadata": {},
   "outputs": [],
   "source": [
    "def firstIndex(arr,si,x):\n",
    "    l=len(arr)\n",
    "    if si==l:\n",
    "        return -1\n",
    "    if arr[si]==x:\n",
    "        return si\n",
    "    return firstIndex(arr,si+1,x)\n",
    "    "
   ]
  },
  {
   "cell_type": "code",
   "execution_count": 22,
   "id": "1c775e4c",
   "metadata": {},
   "outputs": [
    {
     "name": "stdout",
     "output_type": "stream",
     "text": [
      "7\n",
      "1 3 4 5 6 5 5 \n",
      "[1, 3, 4, 5, 6, 5, 5]\n",
      "5\n"
     ]
    },
    {
     "data": {
      "text/plain": [
       "3"
      ]
     },
     "execution_count": 22,
     "metadata": {},
     "output_type": "execute_result"
    }
   ],
   "source": [
    "n=input()\n",
    "l=list(int(l) for l in input().strip().split())\n",
    "print(l)\n",
    "x=int(input())\n",
    "firstIndex(l,0,x)"
   ]
  },
  {
   "cell_type": "code",
   "execution_count": null,
   "id": "39c7e617",
   "metadata": {},
   "outputs": [],
   "source": []
  }
 ],
 "metadata": {
  "kernelspec": {
   "display_name": "Python 3 (ipykernel)",
   "language": "python",
   "name": "python3"
  },
  "language_info": {
   "codemirror_mode": {
    "name": "ipython",
    "version": 3
   },
   "file_extension": ".py",
   "mimetype": "text/x-python",
   "name": "python",
   "nbconvert_exporter": "python",
   "pygments_lexer": "ipython3",
   "version": "3.11.4"
  }
 },
 "nbformat": 4,
 "nbformat_minor": 5
}
