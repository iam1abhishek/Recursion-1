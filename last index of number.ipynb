{
 "cells": [
  {
   "cell_type": "code",
   "execution_count": 23,
   "id": "257e0e6d",
   "metadata": {},
   "outputs": [],
   "source": [
    "#method of copying the list in another list\n",
    "def lastIndex(arr,x):\n",
    "    l=len(arr)\n",
    "    if l==0:\n",
    "        return -1\n",
    "    smallerlist=arr[1:]\n",
    "    smallerlistoutput=lastIndex(smallerlist,x)\n",
    "    if smallerlistoutput !=-1:\n",
    "        return smallerlistoutput +1\n",
    "    else:\n",
    "        if arr[0]==x:\n",
    "            return 0\n",
    "        else:\n",
    "            -1\n",
    "    "
   ]
  },
  {
   "cell_type": "code",
   "execution_count": 24,
   "id": "38d8156f",
   "metadata": {},
   "outputs": [],
   "source": []
  },
  {
   "cell_type": "code",
   "execution_count": 36,
   "id": "86e9ab9d",
   "metadata": {},
   "outputs": [],
   "source": [
    "# n=input()\n",
    "# user_list=list(int(i) for i in input().strip().split())\n",
    "# print(user_list)\n",
    "# x=int(input())\n",
    "# lastIndex(user_list,x)"
   ]
  },
  {
   "cell_type": "code",
   "execution_count": 29,
   "id": "ca35ab40",
   "metadata": {},
   "outputs": [
    {
     "data": {
      "text/plain": [
       "6"
      ]
     },
     "execution_count": 29,
     "metadata": {},
     "output_type": "execute_result"
    }
   ],
   "source": [
    "arr=[1,2 ,3,1,2,3,1]\n",
    "x=1\n",
    "lastIndex(arr,x)"
   ]
  },
  {
   "cell_type": "code",
   "execution_count": 34,
   "id": "28c469d0",
   "metadata": {},
   "outputs": [],
   "source": [
    "#without copying lst in another list\n",
    "def lastIndexBetter(arr,si,x):\n",
    "    l=len(arr)\n",
    "    if si==l:\n",
    "        return -1\n",
    "    smallerlistoutput=lastIndexBetter(arr,si+1,x)\n",
    "    if smallerlistoutput !=-1:\n",
    "        return smallerlistoutput\n",
    "    else:\n",
    "        if arr[si]==x:\n",
    "            return si\n",
    "        else:\n",
    "            return -1\n",
    "        "
   ]
  },
  {
   "cell_type": "code",
   "execution_count": 35,
   "id": "fa6d316a",
   "metadata": {},
   "outputs": [
    {
     "data": {
      "text/plain": [
       "6"
      ]
     },
     "execution_count": 35,
     "metadata": {},
     "output_type": "execute_result"
    }
   ],
   "source": [
    "arr=[1,2 ,3,1,2,3,1]\n",
    "x=1\n",
    "lastIndexBetter(arr,0,x)"
   ]
  },
  {
   "cell_type": "code",
   "execution_count": null,
   "id": "1fcca4fd",
   "metadata": {},
   "outputs": [],
   "source": []
  }
 ],
 "metadata": {
  "kernelspec": {
   "display_name": "Python 3 (ipykernel)",
   "language": "python",
   "name": "python3"
  },
  "language_info": {
   "codemirror_mode": {
    "name": "ipython",
    "version": 3
   },
   "file_extension": ".py",
   "mimetype": "text/x-python",
   "name": "python",
   "nbconvert_exporter": "python",
   "pygments_lexer": "ipython3",
   "version": "3.11.4"
  }
 },
 "nbformat": 4,
 "nbformat_minor": 5
}
