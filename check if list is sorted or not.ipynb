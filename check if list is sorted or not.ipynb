{
 "cells": [
  {
   "cell_type": "code",
   "execution_count": 4,
   "id": "f91bd117",
   "metadata": {},
   "outputs": [],
   "source": [
    "a=[1,2,3,4,5,9,0]"
   ]
  },
  {
   "cell_type": "code",
   "execution_count": 7,
   "id": "122c5be6",
   "metadata": {},
   "outputs": [],
   "source": [
    "def check_sorted(a):\n",
    "    l=len(a)\n",
    "    if l==0 or l==0:\n",
    "        return True\n",
    "    if a[0]>a[1]:\n",
    "        return False\n",
    "    smallerlist=a[1:]\n",
    "    isSmallerlistisSorted=check_sorted(smallerlist)\n",
    "    if isSmallerlistisSorted:\n",
    "        return True\n",
    "    else:\n",
    "        return False\n",
    "    "
   ]
  },
  {
   "cell_type": "code",
   "execution_count": 8,
   "id": "6f05914b",
   "metadata": {},
   "outputs": [
    {
     "data": {
      "text/plain": [
       "False"
      ]
     },
     "execution_count": 8,
     "metadata": {},
     "output_type": "execute_result"
    }
   ],
   "source": [
    "check_sorted(a)"
   ]
  },
  {
   "cell_type": "code",
   "execution_count": 17,
   "id": "dc203da8",
   "metadata": {},
   "outputs": [
    {
     "name": "stdout",
     "output_type": "stream",
     "text": [
      "1 2 3 4 5\n",
      "[1, 2, 3, 4, 5]\n"
     ]
    }
   ],
   "source": [
    "x=input()\n",
    "user_s=x.split()\n",
    "user_list=[int(item) for item in user_s]\n",
    "print(user_list)"
   ]
  },
  {
   "cell_type": "code",
   "execution_count": null,
   "id": "63aeb7fd",
   "metadata": {},
   "outputs": [],
   "source": []
  },
  {
   "cell_type": "code",
   "execution_count": 1,
   "id": "9be37bf5",
   "metadata": {},
   "outputs": [],
   "source": [
    "#optimised way"
   ]
  },
  {
   "cell_type": "code",
   "execution_count": 9,
   "id": "e6b26923",
   "metadata": {},
   "outputs": [],
   "source": [
    "def issortedbetter(a,si):\n",
    "    l=len(a)\n",
    "    if si==l-1 or si==1:\n",
    "        return True\n",
    "    if a[si]>a[si+1]:\n",
    "        return False\n",
    "    return issortedbetter(a,si+1)\n",
    "        "
   ]
  },
  {
   "cell_type": "code",
   "execution_count": 11,
   "id": "d21a6522",
   "metadata": {},
   "outputs": [
    {
     "name": "stdout",
     "output_type": "stream",
     "text": [
      "2 3 4 5 6 10 10 10 19\n",
      "[2, 3, 4, 5, 6, 10, 10, 10, 19]\n"
     ]
    },
    {
     "data": {
      "text/plain": [
       "True"
      ]
     },
     "execution_count": 11,
     "metadata": {},
     "output_type": "execute_result"
    }
   ],
   "source": [
    "x=input()\n",
    "user_s=x.split()\n",
    "user_list=[int(item) for item in user_s]\n",
    "print(user_list)\n",
    "issortedbetter(user_list,0)"
   ]
  },
  {
   "cell_type": "code",
   "execution_count": null,
   "id": "59867d21",
   "metadata": {},
   "outputs": [],
   "source": []
  }
 ],
 "metadata": {
  "kernelspec": {
   "display_name": "Python 3 (ipykernel)",
   "language": "python",
   "name": "python3"
  },
  "language_info": {
   "codemirror_mode": {
    "name": "ipython",
    "version": 3
   },
   "file_extension": ".py",
   "mimetype": "text/x-python",
   "name": "python",
   "nbconvert_exporter": "python",
   "pygments_lexer": "ipython3",
   "version": "3.11.4"
  }
 },
 "nbformat": 4,
 "nbformat_minor": 5
}
