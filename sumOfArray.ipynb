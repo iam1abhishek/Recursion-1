{
 "cells": [
  {
   "cell_type": "code",
   "execution_count": 5,
   "id": "0e3c548b",
   "metadata": {},
   "outputs": [],
   "source": [
    "def sumOfarray(arr):\n",
    "    if len(arr)==1:\n",
    "        return arr[0]\n",
    "    return arr[len(arr)-1]+ sumOfarray(arr[:len(arr)-1])\n",
    "    \n",
    "    "
   ]
  },
  {
   "cell_type": "code",
   "execution_count": 6,
   "id": "843ac7d6",
   "metadata": {},
   "outputs": [
    {
     "name": "stdout",
     "output_type": "stream",
     "text": [
      "8 \n",
      "1 2 3 4 5 6 7 8\n",
      "36\n"
     ]
    }
   ],
   "source": [
    "n=int(input())\n",
    "arr=list(int(i) for i in input().strip().split(' '))\n",
    "print(sumOfarray(arr))"
   ]
  },
  {
   "cell_type": "code",
   "execution_count": null,
   "id": "63bbc94b",
   "metadata": {},
   "outputs": [],
   "source": []
  }
 ],
 "metadata": {
  "kernelspec": {
   "display_name": "Python 3 (ipykernel)",
   "language": "python",
   "name": "python3"
  },
  "language_info": {
   "codemirror_mode": {
    "name": "ipython",
    "version": 3
   },
   "file_extension": ".py",
   "mimetype": "text/x-python",
   "name": "python",
   "nbconvert_exporter": "python",
   "pygments_lexer": "ipython3",
   "version": "3.11.4"
  }
 },
 "nbformat": 4,
 "nbformat_minor": 5
}
